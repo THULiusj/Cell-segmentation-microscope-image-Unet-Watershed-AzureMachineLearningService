{
 "cells": [
  {
   "cell_type": "code",
   "execution_count": 1,
   "metadata": {},
   "outputs": [
    {
     "name": "stderr",
     "output_type": "stream",
     "text": [
      "/anaconda/envs/py35/lib/python3.5/site-packages/h5py/__init__.py:36: FutureWarning: Conversion of the second argument of issubdtype from `float` to `np.floating` is deprecated. In future, it will be treated as `np.float64 == np.dtype(float).type`.\n",
      "  from ._conv import register_converters as _register_converters\n",
      "Using TensorFlow backend.\n"
     ]
    }
   ],
   "source": [
    "from model import *\n",
    "from data import *"
   ]
  },
  {
   "cell_type": "markdown",
   "metadata": {},
   "source": [
    "## Train your Unet with data\n",
    "data is in folder /data/your_image_folder/, it is a binary classification task.\n",
    "\n",
    "```bash\n",
    "data/your_image_folder\n",
    "├── train\n",
    "│   ├── image\n",
    "│   │   ├── 0.png\n",
    "│   │   ├── 1.png\n",
    "│   ├── label\n",
    "│   │   ├── 0.png\n",
    "│   │   ├── 1.png\n",
    "├── test\n",
    "│   ├── image\n",
    "│   │   ├── 0.png\n",
    "│   │   ├── 1.png\n",
    "│   ├── label\n",
    "│   │   ├── 0.png\n",
    "│___│___├── 1.png\n",
    "\n",
    "```"
   ]
  },
  {
   "cell_type": "markdown",
   "metadata": {},
   "source": [
    "### Train with data generator"
   ]
  },
  {
   "cell_type": "code",
   "execution_count": null,
   "metadata": {
    "collapsed": true
   },
   "outputs": [],
   "source": [
    "# transform the training data to contrast gray image\n",
    "import cv2\n",
    "import matplotlib.pyplot as plt\n",
    "image = cv2.imread(\"data/image_folder/train/image/train.JPG\", cv2.IMREAD_GRAYSCALE)\n",
    "gray = 255 - image\n",
    "cv2.imwrite(\"data/image_folder/train/image/0.png\", gray)"
   ]
  },
  {
   "cell_type": "code",
   "execution_count": null,
   "metadata": {
    "collapsed": true
   },
   "outputs": [],
   "source": [
    "# train UNET with transfer learning\n",
    "data_gen_args = dict(rotation_range=0.2,\n",
    "                    width_shift_range=0.05,\n",
    "                    height_shift_range=0.05,\n",
    "                    shear_range=0.05,\n",
    "                    zoom_range=0.05,\n",
    "                    horizontal_flip=True,\n",
    "                    fill_mode='nearest')\n",
    "myGene = trainGenerator(2,'data/image_folder/train','image','label',data_gen_args,save_to_dir = None)\n",
    "model = unet('unet_membrane.hdf5') # transfer learning or you can remove the pre-trained model\n",
    "model_checkpoint = ModelCheckpoint('unet_transfer_learning_model.hdf5', monitor='loss',verbose=1, save_best_only=True)\n",
    "model.fit_generator(myGene,steps_per_epoch=500,epochs=2,callbacks=[model_checkpoint])"
   ]
  },
  {
   "cell_type": "markdown",
   "metadata": {},
   "source": [
    "### test your model and save predicted results"
   ]
  },
  {
   "cell_type": "code",
   "execution_count": null,
   "metadata": {
    "collapsed": true
   },
   "outputs": [],
   "source": [
    "number_of_test_images = 1\n",
    "testGene = testGenerator(\"data/image_folder/test\", num_image = number_of_test_images)\n",
    "model = unet()\n",
    "model.load_weights(\"unet_transfer_learning_model.hdf5\")\n",
    "results = model.predict_generator(testGene, number_of_test_images, verbose=1)"
   ]
  },
  {
   "cell_type": "code",
   "execution_count": null,
   "metadata": {
    "collapsed": true
   },
   "outputs": [],
   "source": [
    "saveResult(\"data/image_folder/test/result\",results)"
   ]
  },
  {
   "cell_type": "markdown",
   "metadata": {},
   "source": [
    "# watershed"
   ]
  },
  {
   "cell_type": "code",
   "execution_count": 6,
   "metadata": {
    "collapsed": true
   },
   "outputs": [],
   "source": [
    "from skimage import io, color\n",
    "from skimage import filters\n",
    "from scipy import ndimage\n",
    "\n",
    "from skimage.morphology import watershed\n",
    "from skimage.feature import peak_local_max\n",
    "from skimage.measure import regionprops, label\n",
    "\n",
    "import cv2\n",
    "import matplotlib.pyplot as plt\n",
    "import numpy as np"
   ]
  },
  {
   "cell_type": "code",
   "execution_count": null,
   "metadata": {
    "collapsed": true
   },
   "outputs": [],
   "source": [
    "bin_threshold = 10\n",
    "background_threshold = 30\n",
    "foreground _threshold = 200\n",
    "\n",
    "for i in range(0, numter_of_test_images):\n",
    "    imresult = results[i,:,:,0]\n",
    "    ret, thresh = cv2.threshold(255 - imresult*255, bin_threshold, 255,cv2.THRESH_BINARY_INV) # transform the unet result to binary image\n",
    "    thresh=thresh/255 # normalize to 1\n",
    "    \n",
    "    edges = ndimage.sobel(thresh) # filter with sobel\n",
    "    markers = np.zeros_like(thresh)\n",
    "    foreground, background = 1, 2\n",
    "    \n",
    "    # set background and foreground with low and high threshold\n",
    "    markers[thresh < background_threshold / 255] = background\n",
    "    markers[thresh > foreground_threshold / 255] = foreground\n",
    "    \n",
    "    ws = watershed(edges, markers)\n",
    "    seg = ndimage.label(ws == foreground)[0]\n",
    "    \n",
    "    # get centroids and areas\n",
    "    regions = regionprops(seg)\n",
    "    regions = [r for r in regions if r.area > 10]\n",
    "    print('Number of centroids for image '+str(i) + ': ', len(regions))\n",
    "    centroids = [r.centroid for r in regions if r.area > 10]\n",
    "    x = [i[0] for i in centroids]\n",
    "    y = [i[1] for i in centroids]\n",
    "    \n",
    "    #plot centroid on original image\n",
    "    image = cv2.imread(os.path.join(\"data/image_folder/test\", str(i) + \".png\"))\n",
    "    im_shape = image.shape\n",
    "    x_scale =  [x_single*im_shape[0]/256 for x_single in x]\n",
    "    y_scale =  [y_single*im_shape[1]/256 for y_single in y]\n",
    "    image_square = cv2.resize(image, (256,256))\n",
    "    image_square[markers==0] = (255, 0 , 0)\n",
    "    image_square = cv2.resize(image_square,im_shape[0:2])\n",
    "    \n",
    "    \n",
    "    plt.figure()\n",
    "    plt.imshow(image, cmap='gray')\n",
    "    plt.scatter(y_scale,x_scale, c = 'r',marker = 'o')\n",
    "    plt.title(\"Number \" + str(i))\n",
    "    plt.savefig(os.path.join(\"data/image_folder/test/result\", str(i) + \"_dots.png\"))\n"
   ]
  }
 ],
 "metadata": {
  "kernelspec": {
   "display_name": "Python [Anaconda3-4.1.1-Windows-x86_64]",
   "language": "python",
   "name": "Python [Anaconda3-4.1.1-Windows-x86_64]"
  },
  "language_info": {
   "codemirror_mode": {
    "name": "ipython",
    "version": 3
   },
   "file_extension": ".py",
   "mimetype": "text/x-python",
   "name": "python",
   "nbconvert_exporter": "python",
   "pygments_lexer": "ipython3",
   "version": "3.5.2"
  }
 },
 "nbformat": 4,
 "nbformat_minor": 2
}
